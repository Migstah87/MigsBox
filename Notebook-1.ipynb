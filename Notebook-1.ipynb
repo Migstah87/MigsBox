{
    "metadata": {
        "kernelspec": {
            "name": "SQL",
            "display_name": "SQL",
            "language": "sql"
        },
        "language_info": {
            "name": "sql",
            "version": ""
        }
    },
    "nbformat_minor": 2,
    "nbformat": 4,
    "cells": [
        {
            "cell_type": "markdown",
            "source": [
                "**<u>EDA (Exploratory Data Analysis) on the Mandeavor Software Solutions Inc. dataset</u>**\n",
                "\n",
                "In order to get a comprehensive overview of the dataset provided by Mandeavor Software Solutions, Inc., several steps in SQL are required.  \n",
                "\n",
                "The first involves getting a count of important variables that the dataset contains.  This is achieved by performing a simple SELECT COUNT script.\n",
                "\n",
                "The following script reveals how many customers the company Mandeavor Software has across the United States:"
            ],
            "metadata": {
                "azdata_cell_guid": "b1712ea9-d5de-4296-a132-8f248f62fccf"
            },
            "attachments": {}
        },
        {
            "cell_type": "code",
            "source": [
                "SELECT COUNT(*)FROM dbo.Customers;\n",
                "GO"
            ],
            "metadata": {
                "azdata_cell_guid": "2f0027c4-9066-4687-9e02-43466896bfe3",
                "tags": []
            },
            "outputs": [
                {
                    "output_type": "display_data",
                    "data": {
                        "text/html": "(1 row affected)"
                    },
                    "metadata": {}
                },
                {
                    "output_type": "display_data",
                    "data": {
                        "text/html": "Total execution time: 00:00:00.044"
                    },
                    "metadata": {}
                },
                {
                    "output_type": "execute_result",
                    "execution_count": 15,
                    "data": {
                        "application/vnd.dataresource+json": {
                            "schema": {
                                "fields": [
                                    {
                                        "name": "(No column name)"
                                    }
                                ]
                            },
                            "data": [
                                {
                                    "0": "38"
                                }
                            ]
                        },
                        "text/html": "<table><tr><th>(No column name)</th></tr><tr><td>38</td></tr></table>"
                    },
                    "metadata": {}
                }
            ],
            "execution_count": 15
        },
        {
            "cell_type": "markdown",
            "source": [
                "The results show that there are a total of 38 customers.  It would be helpful to know how many transactions have been processed as a result of the patronage of these 38 customers.\n",
                "\n",
                "This information can be produced with a SELECT / FROM script:"
            ],
            "metadata": {
                "azdata_cell_guid": "1f9f6d05-c743-4cad-bae0-db2963202abb"
            },
            "attachments": {}
        },
        {
            "cell_type": "code",
            "source": [
                "SELECT count(*) FROM Sales.dbo.Transactions"
            ],
            "metadata": {
                "azdata_cell_guid": "2c3528cf-20b1-40b2-9ce3-7f6b81c6ce64"
            },
            "outputs": [
                {
                    "output_type": "display_data",
                    "data": {
                        "text/html": "(1 row affected)"
                    },
                    "metadata": {}
                },
                {
                    "output_type": "display_data",
                    "data": {
                        "text/html": "Total execution time: 00:00:00.087"
                    },
                    "metadata": {}
                },
                {
                    "output_type": "execute_result",
                    "execution_count": 26,
                    "data": {
                        "application/vnd.dataresource+json": {
                            "schema": {
                                "fields": [
                                    {
                                        "name": "(No column name)"
                                    }
                                ]
                            },
                            "data": [
                                {
                                    "0": "248478"
                                }
                            ]
                        },
                        "text/html": "<table><tr><th>(No column name)</th></tr><tr><td>248478</td></tr></table>"
                    },
                    "metadata": {}
                }
            ],
            "execution_count": 26
        },
        {
            "cell_type": "markdown",
            "source": [
                "The results show close to 250 thousand transactions that were processed within the 3 fiscal years covered by this dataset.\n",
                "\n",
                "  \n",
                "\n",
                "Since the company has business spread throughout the United States, it would be beneficial to know how these are grouped so that high performance sectors can be compared with low performance sectors and strategies can be devised to help those sectors of lower performance.\n",
                "\n",
                "  \n",
                "\n",
                "Another SELECT / FROM screipt can yield a result showing the regions where these customers are located:"
            ],
            "metadata": {
                "azdata_cell_guid": "e08af08c-93ff-442c-b364-829ea2473d96"
            },
            "attachments": {}
        },
        {
            "cell_type": "code",
            "source": [
                "SELECT * FROM Sales.dbo.Markets"
            ],
            "metadata": {
                "azdata_cell_guid": "974e1699-d8b9-43b7-8ef1-881b013acd84"
            },
            "outputs": [
                {
                    "output_type": "display_data",
                    "data": {
                        "text/html": "(17 rows affected)"
                    },
                    "metadata": {}
                },
                {
                    "output_type": "display_data",
                    "data": {
                        "text/html": "Total execution time: 00:00:00.041"
                    },
                    "metadata": {}
                },
                {
                    "output_type": "execute_result",
                    "execution_count": 24,
                    "data": {
                        "application/vnd.dataresource+json": {
                            "schema": {
                                "fields": [
                                    {
                                        "name": "Markets_code"
                                    },
                                    {
                                        "name": "Markets_name"
                                    },
                                    {
                                        "name": "Zone"
                                    }
                                ]
                            },
                            "data": [
                                {
                                    "0": "Mark001",
                                    "1": "Miami",
                                    "2": "South"
                                },
                                {
                                    "0": "Mark002",
                                    "1": "Ohio",
                                    "2": "Central"
                                },
                                {
                                    "0": "Mark003",
                                    "1": "New York",
                                    "2": "North"
                                },
                                {
                                    "0": "Mark004",
                                    "1": "Chicago",
                                    "2": "North"
                                },
                                {
                                    "0": "Mark005",
                                    "1": "Connecticut",
                                    "2": "North"
                                },
                                {
                                    "0": "Mark006",
                                    "1": "Texas",
                                    "2": "South"
                                },
                                {
                                    "0": "Mark007",
                                    "1": "Oklahoma",
                                    "2": "Central"
                                },
                                {
                                    "0": "Mark008",
                                    "1": "New England",
                                    "2": "North"
                                },
                                {
                                    "0": "Mark009",
                                    "1": "Missouri",
                                    "2": "North"
                                },
                                {
                                    "0": "Mark010",
                                    "1": "Arizona",
                                    "2": "South"
                                },
                                {
                                    "0": "Mark011",
                                    "1": "Nebraska",
                                    "2": "Central"
                                },
                                {
                                    "0": "Mark012",
                                    "1": "Michigan",
                                    "2": "North"
                                },
                                {
                                    "0": "Mark013",
                                    "1": "Ohio",
                                    "2": "Central"
                                },
                                {
                                    "0": "Mark014",
                                    "1": "North Carolina",
                                    "2": "South"
                                },
                                {
                                    "0": "Mark015",
                                    "1": "Georgia",
                                    "2": "South"
                                },
                                {
                                    "0": "Mark097",
                                    "1": "Puerto Rico",
                                    "2": ""
                                },
                                {
                                    "0": "Mark999",
                                    "1": "Hawaii",
                                    "2": ""
                                }
                            ]
                        },
                        "text/html": "<table><tr><th>Markets_code</th><th>Markets_name</th><th>Zone</th></tr><tr><td>Mark001</td><td>Miami</td><td>South</td></tr><tr><td>Mark002</td><td>Ohio</td><td>Central</td></tr><tr><td>Mark003</td><td>New York</td><td>North</td></tr><tr><td>Mark004</td><td>Chicago</td><td>North</td></tr><tr><td>Mark005</td><td>Connecticut</td><td>North</td></tr><tr><td>Mark006</td><td>Texas</td><td>South</td></tr><tr><td>Mark007</td><td>Oklahoma</td><td>Central</td></tr><tr><td>Mark008</td><td>New England</td><td>North</td></tr><tr><td>Mark009</td><td>Missouri</td><td>North</td></tr><tr><td>Mark010</td><td>Arizona</td><td>South</td></tr><tr><td>Mark011</td><td>Nebraska</td><td>Central</td></tr><tr><td>Mark012</td><td>Michigan</td><td>North</td></tr><tr><td>Mark013</td><td>Ohio</td><td>Central</td></tr><tr><td>Mark014</td><td>North Carolina</td><td>South</td></tr><tr><td>Mark015</td><td>Georgia</td><td>South</td></tr><tr><td>Mark097</td><td>Puerto Rico</td><td></td></tr><tr><td>Mark999</td><td>Hawaii</td><td></td></tr></table>"
                    },
                    "metadata": {}
                }
            ],
            "execution_count": 24
        },
        {
            "cell_type": "markdown",
            "source": [
                "The results show a total of 17 regions, 15 of which are key markets where the company operates (excluding Puerto Rico and Hawaii).\n",
                "\n",
                "Management has advised that they are particularly interested in the North/New York market (designated \"Mark003\") as that is where the majority of revenue is originated.  \n",
                "\n",
                "A SELECT FROM / WHERE  script can be used to isolate those transactions:"
            ],
            "metadata": {
                "azdata_cell_guid": "02559346-24ac-4028-9ed7-6d71c451662b"
            },
            "attachments": {}
        },
        {
            "cell_type": "code",
            "source": [
                "SELECT * FROM Transactions WHERE market_code='Mark003' ORDER BY Customer_code"
            ],
            "metadata": {
                "azdata_cell_guid": "027094f3-6111-4dde-9edd-9332318b0b8c",
                "tags": [
                    "hide_input"
                ]
            },
            "outputs": [],
            "execution_count": null
        },
        {
            "cell_type": "markdown",
            "source": [
                "In order to gain more insight into this market in particular, it is helpful to see the product types that are selling in that region.\n",
                "\n",
                "A SELECT / DISTINCT script can be employed to produce those product types:\n",
                "\n",
                "\\[NOTE: For the purposes of consolidation and easy viewing, the following command will include a TOP command\\]"
            ],
            "metadata": {
                "azdata_cell_guid": "81da7768-b2d5-4f2f-9bb9-b2ce3dbef4ec"
            },
            "attachments": {}
        },
        {
            "cell_type": "code",
            "source": [
                "SELECT DISTINCT product_code FROM dbo.Transactions WHERE Market_code='Mark003'"
            ],
            "metadata": {
                "azdata_cell_guid": "7979d532-9e09-402b-ab75-c1a76dd51423"
            },
            "outputs": [
                {
                    "output_type": "display_data",
                    "data": {
                        "text/html": "(91 rows affected)"
                    },
                    "metadata": {}
                },
                {
                    "output_type": "display_data",
                    "data": {
                        "text/html": "Total execution time: 00:00:00.113"
                    },
                    "metadata": {}
                },
                {
                    "output_type": "execute_result",
                    "metadata": {},
                    "execution_count": 24,
                    "data": {
                        "application/vnd.dataresource+json": {
                            "schema": {
                                "fields": [
                                    {
                                        "name": "product_code"
                                    }
                                ]
                            },
                            "data": [
                                {
                                    "0": "Prod318"
                                },
                                {
                                    "0": "Prod018"
                                },
                                {
                                    "0": "Prod131"
                                },
                                {
                                    "0": "Prod276"
                                },
                                {
                                    "0": "Prod024"
                                },
                                {
                                    "0": "Prod209"
                                },
                                {
                                    "0": "Prod057"
                                },
                                {
                                    "0": "Prod181"
                                },
                                {
                                    "0": "Prod184"
                                },
                                {
                                    "0": "Prod286"
                                },
                                {
                                    "0": "Prod118"
                                },
                                {
                                    "0": "Prod315"
                                },
                                {
                                    "0": "Prod279"
                                },
                                {
                                    "0": "Prod064"
                                },
                                {
                                    "0": "Prod225"
                                },
                                {
                                    "0": "Prod266"
                                },
                                {
                                    "0": "Prod255"
                                },
                                {
                                    "0": "Prod152"
                                },
                                {
                                    "0": "Prod167"
                                },
                                {
                                    "0": "Prod261"
                                },
                                {
                                    "0": "Prod205"
                                },
                                {
                                    "0": "Prod065"
                                },
                                {
                                    "0": "Prod226"
                                },
                                {
                                    "0": "Prod133"
                                },
                                {
                                    "0": "Prod213"
                                },
                                {
                                    "0": "Prod334"
                                },
                                {
                                    "0": "Prod273"
                                },
                                {
                                    "0": "Prod312"
                                },
                                {
                                    "0": "Prod161"
                                },
                                {
                                    "0": "Prod113"
                                },
                                {
                                    "0": "Prod234"
                                },
                                {
                                    "0": "Prod066"
                                },
                                {
                                    "0": "Prod060"
                                },
                                {
                                    "0": "Prod337"
                                },
                                {
                                    "0": "Prod021"
                                },
                                {
                                    "0": "Prod270"
                                },
                                {
                                    "0": "Prod335"
                                },
                                {
                                    "0": "Prod297"
                                },
                                {
                                    "0": "Prod267"
                                },
                                {
                                    "0": "Prod169"
                                },
                                {
                                    "0": "Prod172"
                                },
                                {
                                    "0": "Prod327"
                                },
                                {
                                    "0": "Prod009"
                                },
                                {
                                    "0": "Prod188"
                                },
                                {
                                    "0": "Prod059"
                                },
                                {
                                    "0": "Prod300"
                                },
                                {
                                    "0": "Prod230"
                                },
                                {
                                    "0": "Prod222"
                                },
                                {
                                    "0": "Prod254"
                                },
                                {
                                    "0": "Prod098"
                                },
                                {
                                    "0": "Prod103"
                                },
                                {
                                    "0": "Prod275"
                                },
                                {
                                    "0": "Prod236"
                                },
                                {
                                    "0": "Prod117"
                                },
                                {
                                    "0": "Prod062"
                                },
                                {
                                    "0": "Prod326"
                                },
                                {
                                    "0": "Prod262"
                                },
                                {
                                    "0": "Prod185"
                                },
                                {
                                    "0": "Prod011"
                                },
                                {
                                    "0": "Prod302"
                                },
                                {
                                    "0": "Prod145"
                                },
                                {
                                    "0": "Prod251"
                                },
                                {
                                    "0": "Prod295"
                                },
                                {
                                    "0": "Prod121"
                                },
                                {
                                    "0": "Prod106"
                                },
                                {
                                    "0": "Prod207"
                                },
                                {
                                    "0": "Prod263"
                                },
                                {
                                    "0": "Prod010"
                                },
                                {
                                    "0": "Prod061"
                                },
                                {
                                    "0": "Prod265"
                                },
                                {
                                    "0": "Prod232"
                                },
                                {
                                    "0": "Prod148"
                                },
                                {
                                    "0": "Prod271"
                                },
                                {
                                    "0": "Prod238"
                                },
                                {
                                    "0": "Prod033"
                                },
                                {
                                    "0": "Prod120"
                                },
                                {
                                    "0": "Prod110"
                                },
                                {
                                    "0": "Prod039"
                                },
                                {
                                    "0": "Prod307"
                                },
                                {
                                    "0": "Prod023"
                                },
                                {
                                    "0": "Prod212"
                                },
                                {
                                    "0": "Prod129"
                                },
                                {
                                    "0": "Prod168"
                                },
                                {
                                    "0": "Prod202"
                                },
                                {
                                    "0": "Prod002"
                                },
                                {
                                    "0": "Prod338"
                                },
                                {
                                    "0": "Prod058"
                                },
                                {
                                    "0": "Prod149"
                                },
                                {
                                    "0": "Prod314"
                                },
                                {
                                    "0": "Prod283"
                                },
                                {
                                    "0": "Prod099"
                                }
                            ]
                        },
                        "text/html": [
                            "<table>",
                            "<tr><th>product_code</th></tr>",
                            "<tr><td>Prod318</td></tr>",
                            "<tr><td>Prod018</td></tr>",
                            "<tr><td>Prod131</td></tr>",
                            "<tr><td>Prod276</td></tr>",
                            "<tr><td>Prod024</td></tr>",
                            "<tr><td>Prod209</td></tr>",
                            "<tr><td>Prod057</td></tr>",
                            "<tr><td>Prod181</td></tr>",
                            "<tr><td>Prod184</td></tr>",
                            "<tr><td>Prod286</td></tr>",
                            "<tr><td>Prod118</td></tr>",
                            "<tr><td>Prod315</td></tr>",
                            "<tr><td>Prod279</td></tr>",
                            "<tr><td>Prod064</td></tr>",
                            "<tr><td>Prod225</td></tr>",
                            "<tr><td>Prod266</td></tr>",
                            "<tr><td>Prod255</td></tr>",
                            "<tr><td>Prod152</td></tr>",
                            "<tr><td>Prod167</td></tr>",
                            "<tr><td>Prod261</td></tr>",
                            "<tr><td>Prod205</td></tr>",
                            "<tr><td>Prod065</td></tr>",
                            "<tr><td>Prod226</td></tr>",
                            "<tr><td>Prod133</td></tr>",
                            "<tr><td>Prod213</td></tr>",
                            "<tr><td>Prod334</td></tr>",
                            "<tr><td>Prod273</td></tr>",
                            "<tr><td>Prod312</td></tr>",
                            "<tr><td>Prod161</td></tr>",
                            "<tr><td>Prod113</td></tr>",
                            "<tr><td>Prod234</td></tr>",
                            "<tr><td>Prod066</td></tr>",
                            "<tr><td>Prod060</td></tr>",
                            "<tr><td>Prod337</td></tr>",
                            "<tr><td>Prod021</td></tr>",
                            "<tr><td>Prod270</td></tr>",
                            "<tr><td>Prod335</td></tr>",
                            "<tr><td>Prod297</td></tr>",
                            "<tr><td>Prod267</td></tr>",
                            "<tr><td>Prod169</td></tr>",
                            "<tr><td>Prod172</td></tr>",
                            "<tr><td>Prod327</td></tr>",
                            "<tr><td>Prod009</td></tr>",
                            "<tr><td>Prod188</td></tr>",
                            "<tr><td>Prod059</td></tr>",
                            "<tr><td>Prod300</td></tr>",
                            "<tr><td>Prod230</td></tr>",
                            "<tr><td>Prod222</td></tr>",
                            "<tr><td>Prod254</td></tr>",
                            "<tr><td>Prod098</td></tr>",
                            "<tr><td>Prod103</td></tr>",
                            "<tr><td>Prod275</td></tr>",
                            "<tr><td>Prod236</td></tr>",
                            "<tr><td>Prod117</td></tr>",
                            "<tr><td>Prod062</td></tr>",
                            "<tr><td>Prod326</td></tr>",
                            "<tr><td>Prod262</td></tr>",
                            "<tr><td>Prod185</td></tr>",
                            "<tr><td>Prod011</td></tr>",
                            "<tr><td>Prod302</td></tr>",
                            "<tr><td>Prod145</td></tr>",
                            "<tr><td>Prod251</td></tr>",
                            "<tr><td>Prod295</td></tr>",
                            "<tr><td>Prod121</td></tr>",
                            "<tr><td>Prod106</td></tr>",
                            "<tr><td>Prod207</td></tr>",
                            "<tr><td>Prod263</td></tr>",
                            "<tr><td>Prod010</td></tr>",
                            "<tr><td>Prod061</td></tr>",
                            "<tr><td>Prod265</td></tr>",
                            "<tr><td>Prod232</td></tr>",
                            "<tr><td>Prod148</td></tr>",
                            "<tr><td>Prod271</td></tr>",
                            "<tr><td>Prod238</td></tr>",
                            "<tr><td>Prod033</td></tr>",
                            "<tr><td>Prod120</td></tr>",
                            "<tr><td>Prod110</td></tr>",
                            "<tr><td>Prod039</td></tr>",
                            "<tr><td>Prod307</td></tr>",
                            "<tr><td>Prod023</td></tr>",
                            "<tr><td>Prod212</td></tr>",
                            "<tr><td>Prod129</td></tr>",
                            "<tr><td>Prod168</td></tr>",
                            "<tr><td>Prod202</td></tr>",
                            "<tr><td>Prod002</td></tr>",
                            "<tr><td>Prod338</td></tr>",
                            "<tr><td>Prod058</td></tr>",
                            "<tr><td>Prod149</td></tr>",
                            "<tr><td>Prod314</td></tr>",
                            "<tr><td>Prod283</td></tr>",
                            "<tr><td>Prod099</td></tr>",
                            "</table>"
                        ]
                    }
                }
            ],
            "execution_count": 24
        },
        {
            "cell_type": "markdown",
            "source": [
                "In looking at the dataset, it is noted that the vast majority of transactions are done in US dollars.  As the company had briefly done business outside of the US in the past (but no longer), it would be beneficial to isolate and omit those values from any totals that are aggregated since those transactions were outliers and therefore, not relevant.\n",
                "\n",
                "A SELECT DISTINCT script would also help here to see if those outlier transactions might be present in this dataset:"
            ],
            "metadata": {
                "azdata_cell_guid": "70378130-e231-4219-8aae-999049b9ab8c"
            },
            "attachments": {}
        },
        {
            "cell_type": "code",
            "source": [
                "SELECT DISTINCT Currency FROM dbo.Transactions"
            ],
            "metadata": {
                "azdata_cell_guid": "a9d7401d-2b25-4a18-a0bb-ad663ddf1bcc"
            },
            "outputs": [
                {
                    "output_type": "display_data",
                    "data": {
                        "text/html": "(3 rows affected)"
                    },
                    "metadata": {}
                },
                {
                    "output_type": "display_data",
                    "data": {
                        "text/html": "Total execution time: 00:00:00.093"
                    },
                    "metadata": {}
                },
                {
                    "output_type": "execute_result",
                    "execution_count": 20,
                    "data": {
                        "application/vnd.dataresource+json": {
                            "schema": {
                                "fields": [
                                    {
                                        "name": "Currency"
                                    }
                                ]
                            },
                            "data": [
                                {
                                    "0": "INR"
                                },
                                {
                                    "0": "NULL"
                                },
                                {
                                    "0": "USD"
                                }
                            ]
                        },
                        "text/html": "<table><tr><th>Currency</th></tr><tr><td>INR</td></tr><tr><td>NULL</td></tr><tr><td>USD</td></tr></table>"
                    },
                    "metadata": {}
                }
            ],
            "execution_count": 20
        },
        {
            "cell_type": "markdown",
            "source": [
                "The output shows transactions that were done in Indian Rupees (\"INR\") and there are some transactions yielding a \"NULL\" value.   The NULL transactions are inconsequential as they do not affect the aggregate outcome, however, the \"INR\" transactions should be isolated and analyzed as they contain actual values.\n",
                "\n",
                "The SELECT / WHERE clause will be used here to highlight those transactions:"
            ],
            "metadata": {
                "azdata_cell_guid": "8eddd1b2-1a3b-415f-a63d-c11cd55f7519"
            },
            "attachments": {}
        },
        {
            "cell_type": "code",
            "source": [
                "SELECT * FROM dbo.Transactions WHERE Currency='INR';"
            ],
            "metadata": {
                "azdata_cell_guid": "3ed30bc1-0f86-4103-ab78-160231b38a40"
            },
            "outputs": [
                {
                    "output_type": "display_data",
                    "data": {
                        "text/html": "(2 rows affected)"
                    },
                    "metadata": {}
                },
                {
                    "output_type": "display_data",
                    "data": {
                        "text/html": "Total execution time: 00:00:00.126"
                    },
                    "metadata": {}
                },
                {
                    "output_type": "execute_result",
                    "execution_count": 25,
                    "data": {
                        "application/vnd.dataresource+json": {
                            "schema": {
                                "fields": [
                                    {
                                        "name": "Product_code"
                                    },
                                    {
                                        "name": "Customer_code"
                                    },
                                    {
                                        "name": "Market_code"
                                    },
                                    {
                                        "name": "Order_date"
                                    },
                                    {
                                        "name": "Sales_qty"
                                    },
                                    {
                                        "name": "Sales_amount"
                                    },
                                    {
                                        "name": "Currency"
                                    },
                                    {
                                        "name": "Profit_margin_percentage"
                                    },
                                    {
                                        "name": "Profit_margin"
                                    },
                                    {
                                        "name": "Cost_price"
                                    }
                                ]
                            },
                            "data": [
                                {
                                    "0": "Prod279",
                                    "1": "Cus020",
                                    "2": "Mark011",
                                    "3": "2017-10-11",
                                    "4": "1",
                                    "5": "102",
                                    "6": "INR",
                                    "7": "0",
                                    "8": "39",
                                    "9": "62"
                                },
                                {
                                    "0": "Prod279",
                                    "1": "Cus020",
                                    "2": "Mark011",
                                    "3": "2017-10-11",
                                    "4": "1",
                                    "5": "102",
                                    "6": "INR",
                                    "7": "0",
                                    "8": "39",
                                    "9": "62"
                                }
                            ]
                        },
                        "text/html": "<table><tr><th>Product_code</th><th>Customer_code</th><th>Market_code</th><th>Order_date</th><th>Sales_qty</th><th>Sales_amount</th><th>Currency</th><th>Profit_margin_percentage</th><th>Profit_margin</th><th>Cost_price</th></tr><tr><td>Prod279</td><td>Cus020</td><td>Mark011</td><td>2017-10-11</td><td>1</td><td>102</td><td>INR</td><td>0</td><td>39</td><td>62</td></tr><tr><td>Prod279</td><td>Cus020</td><td>Mark011</td><td>2017-10-11</td><td>1</td><td>102</td><td>INR</td><td>0</td><td>39</td><td>62</td></tr></table>"
                    },
                    "metadata": {}
                }
            ],
            "execution_count": 25
        },
        {
            "cell_type": "markdown",
            "source": [
                "The resulting set above shows a total sales amount of 204 rupees which are inconsequential to the overall revenue aggregated.  After conferring with management, it is determined that these records will be left in the dataset for now and converted to USD at the visualization stage of the analysis.\n",
                "\n",
                "In order to get a clear picture of the most recent performance of business generated by the company, an analysis of the most recent year accounted for (\"2020\") should be done.   Also helpful in this effort would be an accounting of what month those individual transactions ocurred.   For this purpose, a joining of the transactions and date tables according to order date would be useful: \n",
                "\n",
                "\\[NOTE: For the purposes of consolidation and easy viewing, the following command will include a TOP command\\]"
            ],
            "metadata": {
                "azdata_cell_guid": "52e38dfb-14e3-4cc8-ad73-b9ffdd84cec3"
            },
            "attachments": {}
        },
        {
            "cell_type": "code",
            "source": [
                "SELECT TOP 20 Transactions.*, Sdate.* FROM Transactions INNER JOIN Sdate ON Transactions.Order_date=Sdate.SDate WHERE Sdate.year=2020 ORDER BY Transactions.Order_date"
            ],
            "metadata": {
                "azdata_cell_guid": "60fa224d-c679-46c3-98c0-bc1aea3700a0"
            },
            "outputs": [
                {
                    "output_type": "display_data",
                    "data": {
                        "text/html": "(20 rows affected)"
                    },
                    "metadata": {}
                },
                {
                    "output_type": "display_data",
                    "data": {
                        "text/html": "Total execution time: 00:00:00.181"
                    },
                    "metadata": {}
                },
                {
                    "output_type": "execute_result",
                    "metadata": {},
                    "execution_count": 21,
                    "data": {
                        "application/vnd.dataresource+json": {
                            "schema": {
                                "fields": [
                                    {
                                        "name": "Product_code"
                                    },
                                    {
                                        "name": "Customer_code"
                                    },
                                    {
                                        "name": "Market_code"
                                    },
                                    {
                                        "name": "Order_date"
                                    },
                                    {
                                        "name": "Sales_qty"
                                    },
                                    {
                                        "name": "Sales_amount"
                                    },
                                    {
                                        "name": "Currency"
                                    },
                                    {
                                        "name": "Profit_margin_percentage"
                                    },
                                    {
                                        "name": "Profit_margin"
                                    },
                                    {
                                        "name": "Cost_price"
                                    },
                                    {
                                        "name": "SDate"
                                    },
                                    {
                                        "name": "Cy_date"
                                    },
                                    {
                                        "name": "Year"
                                    },
                                    {
                                        "name": "Month"
                                    },
                                    {
                                        "name": "date_yy_mmm"
                                    }
                                ]
                            },
                            "data": [
                                {
                                    "0": "Prod295",
                                    "1": "Cus024",
                                    "2": "Mark011",
                                    "3": "2020-01-01",
                                    "4": "1",
                                    "5": "83",
                                    "6": "USD",
                                    "7": "0",
                                    "8": "-17",
                                    "9": "100",
                                    "10": "2020-01-01",
                                    "11": "2020-01-01",
                                    "12": "2020",
                                    "13": "January",
                                    "14": "20-Jan\\r"
                                },
                                {
                                    "0": "Prod286",
                                    "1": "Cus024",
                                    "2": "Mark011",
                                    "3": "2020-01-01",
                                    "4": "1",
                                    "5": "56",
                                    "6": "USD",
                                    "7": "0",
                                    "8": "22",
                                    "9": "33",
                                    "10": "2020-01-01",
                                    "11": "2020-01-01",
                                    "12": "2020",
                                    "13": "January",
                                    "14": "20-Jan\\r"
                                },
                                {
                                    "0": "Prod296",
                                    "1": "Cus024",
                                    "2": "Mark011",
                                    "3": "2020-01-01",
                                    "4": "1",
                                    "5": "144",
                                    "6": "USD",
                                    "7": "0",
                                    "8": "23",
                                    "9": "120",
                                    "10": "2020-01-01",
                                    "11": "2020-01-01",
                                    "12": "2020",
                                    "13": "January",
                                    "14": "20-Jan\\r"
                                },
                                {
                                    "0": "Prod264",
                                    "1": "Cus024",
                                    "2": "Mark011",
                                    "3": "2020-01-01",
                                    "4": "1",
                                    "5": "74",
                                    "6": "USD",
                                    "7": "0",
                                    "8": "4",
                                    "9": "69",
                                    "10": "2020-01-01",
                                    "11": "2020-01-01",
                                    "12": "2020",
                                    "13": "January",
                                    "14": "20-Jan\\r"
                                },
                                {
                                    "0": "Prod265",
                                    "1": "Cus024",
                                    "2": "Mark011",
                                    "3": "2020-01-01",
                                    "4": "1",
                                    "5": "102",
                                    "6": "USD",
                                    "7": "0",
                                    "8": "39",
                                    "9": "62",
                                    "10": "2020-01-01",
                                    "11": "2020-01-01",
                                    "12": "2020",
                                    "13": "January",
                                    "14": "20-Jan\\r"
                                },
                                {
                                    "0": "Prod288",
                                    "1": "Cus024",
                                    "2": "Mark011",
                                    "3": "2020-01-01",
                                    "4": "1",
                                    "5": "208",
                                    "6": "USD",
                                    "7": "0",
                                    "8": "-8",
                                    "9": "216",
                                    "10": "2020-01-01",
                                    "11": "2020-01-01",
                                    "12": "2020",
                                    "13": "January",
                                    "14": "20-Jan\\r"
                                },
                                {
                                    "0": "Prod065",
                                    "1": "Cus024",
                                    "2": "Mark011",
                                    "3": "2020-01-01",
                                    "4": "1",
                                    "5": "417",
                                    "6": "USD",
                                    "7": "0",
                                    "8": "120",
                                    "9": "296",
                                    "10": "2020-01-01",
                                    "11": "2020-01-01",
                                    "12": "2020",
                                    "13": "January",
                                    "14": "20-Jan\\r"
                                },
                                {
                                    "0": "Prod300",
                                    "1": "Cus024",
                                    "2": "Mark011",
                                    "3": "2020-01-01",
                                    "4": "1",
                                    "5": "42",
                                    "6": "USD",
                                    "7": "0",
                                    "8": "15",
                                    "9": "26",
                                    "10": "2020-01-01",
                                    "11": "2020-01-01",
                                    "12": "2020",
                                    "13": "January",
                                    "14": "20-Jan\\r"
                                },
                                {
                                    "0": "Prod278",
                                    "1": "Cus024",
                                    "2": "Mark011",
                                    "3": "2020-01-01",
                                    "4": "1",
                                    "5": "88",
                                    "6": "USD",
                                    "7": "0",
                                    "8": "-6",
                                    "9": "94",
                                    "10": "2020-01-01",
                                    "11": "2020-01-01",
                                    "12": "2020",
                                    "13": "January",
                                    "14": "20-Jan\\r"
                                },
                                {
                                    "0": "Prod280",
                                    "1": "Cus024",
                                    "2": "Mark011",
                                    "3": "2020-01-01",
                                    "4": "1",
                                    "5": "28",
                                    "6": "USD",
                                    "7": "0",
                                    "8": "-2",
                                    "9": "30",
                                    "10": "2020-01-01",
                                    "11": "2020-01-01",
                                    "12": "2020",
                                    "13": "January",
                                    "14": "20-Jan\\r"
                                },
                                {
                                    "0": "Prod281",
                                    "1": "Cus024",
                                    "2": "Mark011",
                                    "3": "2020-01-01",
                                    "4": "1",
                                    "5": "60",
                                    "6": "USD",
                                    "7": "0",
                                    "8": "0",
                                    "9": "59",
                                    "10": "2020-01-01",
                                    "11": "2020-01-01",
                                    "12": "2020",
                                    "13": "January",
                                    "14": "20-Jan\\r"
                                },
                                {
                                    "0": "Prod053",
                                    "1": "Cus024",
                                    "2": "Mark011",
                                    "3": "2020-01-01",
                                    "4": "1",
                                    "5": "347",
                                    "6": "USD",
                                    "7": "0",
                                    "8": "38",
                                    "9": "308",
                                    "10": "2020-01-01",
                                    "11": "2020-01-01",
                                    "12": "2020",
                                    "13": "January",
                                    "14": "20-Jan\\r"
                                },
                                {
                                    "0": "Prod302",
                                    "1": "Cus024",
                                    "2": "Mark011",
                                    "3": "2020-01-01",
                                    "4": "1",
                                    "5": "139",
                                    "6": "USD",
                                    "7": "0",
                                    "8": "-45",
                                    "9": "184",
                                    "10": "2020-01-01",
                                    "11": "2020-01-01",
                                    "12": "2020",
                                    "13": "January",
                                    "14": "20-Jan\\r"
                                },
                                {
                                    "0": "Prod290",
                                    "1": "Cus024",
                                    "2": "Mark011",
                                    "3": "2020-01-01",
                                    "4": "1",
                                    "5": "255",
                                    "6": "USD",
                                    "7": "0",
                                    "8": "33",
                                    "9": "221",
                                    "10": "2020-01-01",
                                    "11": "2020-01-01",
                                    "12": "2020",
                                    "13": "January",
                                    "14": "20-Jan\\r"
                                },
                                {
                                    "0": "Prod263",
                                    "1": "Cus024",
                                    "2": "Mark011",
                                    "3": "2020-01-01",
                                    "4": "1",
                                    "5": "120",
                                    "6": "USD",
                                    "7": "0",
                                    "8": "12",
                                    "9": "108",
                                    "10": "2020-01-01",
                                    "11": "2020-01-01",
                                    "12": "2020",
                                    "13": "January",
                                    "14": "20-Jan\\r"
                                },
                                {
                                    "0": "Prod053",
                                    "1": "Cus022",
                                    "2": "Mark011",
                                    "3": "2020-01-01",
                                    "4": "1",
                                    "5": "213",
                                    "6": "USD",
                                    "7": "0",
                                    "8": "78",
                                    "9": "134",
                                    "10": "2020-01-01",
                                    "11": "2020-01-01",
                                    "12": "2020",
                                    "13": "January",
                                    "14": "20-Jan\\r"
                                },
                                {
                                    "0": "Prod271",
                                    "1": "Cus024",
                                    "2": "Mark011",
                                    "3": "2020-01-01",
                                    "4": "1",
                                    "5": "56",
                                    "6": "USD",
                                    "7": "0",
                                    "8": "-5",
                                    "9": "61",
                                    "10": "2020-01-01",
                                    "11": "2020-01-01",
                                    "12": "2020",
                                    "13": "January",
                                    "14": "20-Jan\\r"
                                },
                                {
                                    "0": "Prod134",
                                    "1": "Cus024",
                                    "2": "Mark011",
                                    "3": "2020-01-01",
                                    "4": "1",
                                    "5": "148",
                                    "6": "USD",
                                    "7": "0",
                                    "8": "-1",
                                    "9": "149",
                                    "10": "2020-01-01",
                                    "11": "2020-01-01",
                                    "12": "2020",
                                    "13": "January",
                                    "14": "20-Jan\\r"
                                },
                                {
                                    "0": "Prod294",
                                    "1": "Cus024",
                                    "2": "Mark011",
                                    "3": "2020-01-01",
                                    "4": "1",
                                    "5": "93",
                                    "6": "USD",
                                    "7": "0",
                                    "8": "28",
                                    "9": "64",
                                    "10": "2020-01-01",
                                    "11": "2020-01-01",
                                    "12": "2020",
                                    "13": "January",
                                    "14": "20-Jan\\r"
                                },
                                {
                                    "0": "Prod292",
                                    "1": "Cus024",
                                    "2": "Mark011",
                                    "3": "2020-01-01",
                                    "4": "1",
                                    "5": "167",
                                    "6": "USD",
                                    "7": "0",
                                    "8": "-33",
                                    "9": "200",
                                    "10": "2020-01-01",
                                    "11": "2020-01-01",
                                    "12": "2020",
                                    "13": "January",
                                    "14": "20-Jan\\r"
                                }
                            ]
                        },
                        "text/html": [
                            "<table>",
                            "<tr><th>Product_code</th><th>Customer_code</th><th>Market_code</th><th>Order_date</th><th>Sales_qty</th><th>Sales_amount</th><th>Currency</th><th>Profit_margin_percentage</th><th>Profit_margin</th><th>Cost_price</th><th>SDate</th><th>Cy_date</th><th>Year</th><th>Month</th><th>date_yy_mmm</th></tr>",
                            "<tr><td>Prod295</td><td>Cus024</td><td>Mark011</td><td>2020-01-01</td><td>1</td><td>83</td><td>USD</td><td>0</td><td>-17</td><td>100</td><td>2020-01-01</td><td>2020-01-01</td><td>2020</td><td>January</td><td>20-Jan\\r</td></tr>",
                            "<tr><td>Prod286</td><td>Cus024</td><td>Mark011</td><td>2020-01-01</td><td>1</td><td>56</td><td>USD</td><td>0</td><td>22</td><td>33</td><td>2020-01-01</td><td>2020-01-01</td><td>2020</td><td>January</td><td>20-Jan\\r</td></tr>",
                            "<tr><td>Prod296</td><td>Cus024</td><td>Mark011</td><td>2020-01-01</td><td>1</td><td>144</td><td>USD</td><td>0</td><td>23</td><td>120</td><td>2020-01-01</td><td>2020-01-01</td><td>2020</td><td>January</td><td>20-Jan\\r</td></tr>",
                            "<tr><td>Prod264</td><td>Cus024</td><td>Mark011</td><td>2020-01-01</td><td>1</td><td>74</td><td>USD</td><td>0</td><td>4</td><td>69</td><td>2020-01-01</td><td>2020-01-01</td><td>2020</td><td>January</td><td>20-Jan\\r</td></tr>",
                            "<tr><td>Prod265</td><td>Cus024</td><td>Mark011</td><td>2020-01-01</td><td>1</td><td>102</td><td>USD</td><td>0</td><td>39</td><td>62</td><td>2020-01-01</td><td>2020-01-01</td><td>2020</td><td>January</td><td>20-Jan\\r</td></tr>",
                            "<tr><td>Prod288</td><td>Cus024</td><td>Mark011</td><td>2020-01-01</td><td>1</td><td>208</td><td>USD</td><td>0</td><td>-8</td><td>216</td><td>2020-01-01</td><td>2020-01-01</td><td>2020</td><td>January</td><td>20-Jan\\r</td></tr>",
                            "<tr><td>Prod065</td><td>Cus024</td><td>Mark011</td><td>2020-01-01</td><td>1</td><td>417</td><td>USD</td><td>0</td><td>120</td><td>296</td><td>2020-01-01</td><td>2020-01-01</td><td>2020</td><td>January</td><td>20-Jan\\r</td></tr>",
                            "<tr><td>Prod300</td><td>Cus024</td><td>Mark011</td><td>2020-01-01</td><td>1</td><td>42</td><td>USD</td><td>0</td><td>15</td><td>26</td><td>2020-01-01</td><td>2020-01-01</td><td>2020</td><td>January</td><td>20-Jan\\r</td></tr>",
                            "<tr><td>Prod278</td><td>Cus024</td><td>Mark011</td><td>2020-01-01</td><td>1</td><td>88</td><td>USD</td><td>0</td><td>-6</td><td>94</td><td>2020-01-01</td><td>2020-01-01</td><td>2020</td><td>January</td><td>20-Jan\\r</td></tr>",
                            "<tr><td>Prod280</td><td>Cus024</td><td>Mark011</td><td>2020-01-01</td><td>1</td><td>28</td><td>USD</td><td>0</td><td>-2</td><td>30</td><td>2020-01-01</td><td>2020-01-01</td><td>2020</td><td>January</td><td>20-Jan\\r</td></tr>",
                            "<tr><td>Prod281</td><td>Cus024</td><td>Mark011</td><td>2020-01-01</td><td>1</td><td>60</td><td>USD</td><td>0</td><td>0</td><td>59</td><td>2020-01-01</td><td>2020-01-01</td><td>2020</td><td>January</td><td>20-Jan\\r</td></tr>",
                            "<tr><td>Prod053</td><td>Cus024</td><td>Mark011</td><td>2020-01-01</td><td>1</td><td>347</td><td>USD</td><td>0</td><td>38</td><td>308</td><td>2020-01-01</td><td>2020-01-01</td><td>2020</td><td>January</td><td>20-Jan\\r</td></tr>",
                            "<tr><td>Prod302</td><td>Cus024</td><td>Mark011</td><td>2020-01-01</td><td>1</td><td>139</td><td>USD</td><td>0</td><td>-45</td><td>184</td><td>2020-01-01</td><td>2020-01-01</td><td>2020</td><td>January</td><td>20-Jan\\r</td></tr>",
                            "<tr><td>Prod290</td><td>Cus024</td><td>Mark011</td><td>2020-01-01</td><td>1</td><td>255</td><td>USD</td><td>0</td><td>33</td><td>221</td><td>2020-01-01</td><td>2020-01-01</td><td>2020</td><td>January</td><td>20-Jan\\r</td></tr>",
                            "<tr><td>Prod263</td><td>Cus024</td><td>Mark011</td><td>2020-01-01</td><td>1</td><td>120</td><td>USD</td><td>0</td><td>12</td><td>108</td><td>2020-01-01</td><td>2020-01-01</td><td>2020</td><td>January</td><td>20-Jan\\r</td></tr>",
                            "<tr><td>Prod053</td><td>Cus022</td><td>Mark011</td><td>2020-01-01</td><td>1</td><td>213</td><td>USD</td><td>0</td><td>78</td><td>134</td><td>2020-01-01</td><td>2020-01-01</td><td>2020</td><td>January</td><td>20-Jan\\r</td></tr>",
                            "<tr><td>Prod271</td><td>Cus024</td><td>Mark011</td><td>2020-01-01</td><td>1</td><td>56</td><td>USD</td><td>0</td><td>-5</td><td>61</td><td>2020-01-01</td><td>2020-01-01</td><td>2020</td><td>January</td><td>20-Jan\\r</td></tr>",
                            "<tr><td>Prod134</td><td>Cus024</td><td>Mark011</td><td>2020-01-01</td><td>1</td><td>148</td><td>USD</td><td>0</td><td>-1</td><td>149</td><td>2020-01-01</td><td>2020-01-01</td><td>2020</td><td>January</td><td>20-Jan\\r</td></tr>",
                            "<tr><td>Prod294</td><td>Cus024</td><td>Mark011</td><td>2020-01-01</td><td>1</td><td>93</td><td>USD</td><td>0</td><td>28</td><td>64</td><td>2020-01-01</td><td>2020-01-01</td><td>2020</td><td>January</td><td>20-Jan\\r</td></tr>",
                            "<tr><td>Prod292</td><td>Cus024</td><td>Mark011</td><td>2020-01-01</td><td>1</td><td>167</td><td>USD</td><td>0</td><td>-33</td><td>200</td><td>2020-01-01</td><td>2020-01-01</td><td>2020</td><td>January</td><td>20-Jan\\r</td></tr>",
                            "</table>"
                        ]
                    }
                }
            ],
            "execution_count": 21
        },
        {
            "cell_type": "markdown",
            "source": [
                "Mandeavor Software experienced an extremely successful year doing business in 2020.  In order to appreciate this further, an aggregation of the preceding transactions should be done.\n",
                "\n",
                "This can be achieved by incorporating the SUM command into the preceding script:"
            ],
            "metadata": {
                "azdata_cell_guid": "56802539-223d-4f9b-acd8-2bff3eb8c8d1"
            },
            "attachments": {}
        },
        {
            "cell_type": "code",
            "source": [
                "SELECT SUM(dbo.Transactions.Sales_amount) FROM Transactions INNER JOIN Sdate ON Transactions.Order_date=Sdate.Sdate where Sdate.year=2020"
            ],
            "metadata": {
                "azdata_cell_guid": "9b61127c-beae-4e0e-b3a1-38376a9beaea"
            },
            "outputs": [
                {
                    "output_type": "display_data",
                    "data": {
                        "text/html": "(1 row affected)"
                    },
                    "metadata": {}
                },
                {
                    "output_type": "display_data",
                    "data": {
                        "text/html": "Total execution time: 00:00:00.096"
                    },
                    "metadata": {}
                },
                {
                    "output_type": "execute_result",
                    "metadata": {},
                    "execution_count": 4,
                    "data": {
                        "application/vnd.dataresource+json": {
                            "schema": {
                                "fields": [
                                    {
                                        "name": "(No column name)"
                                    }
                                ]
                            },
                            "data": [
                                {
                                    "0": "717499363"
                                }
                            ]
                        },
                        "text/html": [
                            "<table>",
                            "<tr><th>(No column name)</th></tr>",
                            "<tr><td>717499363</td></tr>",
                            "</table>"
                        ]
                    }
                }
            ],
            "execution_count": 4
        },
        {
            "cell_type": "markdown",
            "source": [
                "The company generated $717.5 MM in revenue which will allow it to head into the following year with a considerable trajectory!\n",
                "\n",
                "It was previously evident that the North/New York region was of importance to management.  In order to see how much of the preceding revenue was generated in that region, we can use the SUM command in conjunction with the AND clause to produce the criteria necessary to produce this figure:"
            ],
            "metadata": {
                "azdata_cell_guid": "db246969-cce0-4311-b715-bef9e80a5590"
            },
            "attachments": {}
        },
        {
            "cell_type": "code",
            "source": [
                "SELECT SUM(dbo.Transactions.Sales_amount) FROM Transactions INNER JOIN Sdate ON Transactions.Order_date=Sdate.Sdate where Sdate.year=2020 and dbo.Transactions.Market_code='Mark003'"
            ],
            "metadata": {
                "azdata_cell_guid": "c7e5a840-0185-4444-a230-2d8362d7eba0"
            },
            "outputs": [
                {
                    "output_type": "display_data",
                    "data": {
                        "text/html": "(1 row affected)"
                    },
                    "metadata": {}
                },
                {
                    "output_type": "display_data",
                    "data": {
                        "text/html": "Total execution time: 00:00:00.110"
                    },
                    "metadata": {}
                },
                {
                    "output_type": "execute_result",
                    "metadata": {},
                    "execution_count": 5,
                    "data": {
                        "application/vnd.dataresource+json": {
                            "schema": {
                                "fields": [
                                    {
                                        "name": "(No column name)"
                                    }
                                ]
                            },
                            "data": [
                                {
                                    "0": "99614402"
                                }
                            ]
                        },
                        "text/html": [
                            "<table>",
                            "<tr><th>(No column name)</th></tr>",
                            "<tr><td>99614402</td></tr>",
                            "</table>"
                        ]
                    }
                }
            ],
            "execution_count": 5
        },
        {
            "cell_type": "markdown",
            "source": [
                "The preceding result shows that the New York/North region produced $99.6 MM which is a considerable contribution to the overall revenue realized.  If the strategies implemented in that area are studied closely and documented, they can be applied to those regions producing poorly in order to realize an improvement."
            ],
            "metadata": {
                "azdata_cell_guid": "4b6f2e8f-b1d4-46ca-9b21-837db66c169f"
            },
            "attachments": {}
        }
    ]
}